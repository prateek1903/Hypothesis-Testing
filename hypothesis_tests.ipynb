{
 "cells": [
  {
   "cell_type": "code",
   "execution_count": 1,
   "id": "7a0ed10d",
   "metadata": {},
   "outputs": [],
   "source": [
    "import os\n",
    "import pandas as pd\n",
    "import numpy as np\n",
    "import matplotlib.pyplot as plt\n",
    "import seaborn as sns\n",
    "import scipy.stats as stats"
   ]
  },
  {
   "cell_type": "code",
   "execution_count": 2,
   "id": "68c880d2",
   "metadata": {},
   "outputs": [
    {
     "data": {
      "text/plain": [
       "'C:\\\\Users\\\\LEGION\\\\Desktop\\\\data_set'"
      ]
     },
     "execution_count": 2,
     "metadata": {},
     "output_type": "execute_result"
    }
   ],
   "source": [
    "os.getcwd()"
   ]
  },
  {
   "cell_type": "code",
   "execution_count": 3,
   "id": "33dcf2db",
   "metadata": {},
   "outputs": [
    {
     "data": {
      "text/plain": [
       "['.ipynb_checkpoints',\n",
       " 'hypothesis_tests.ipynb',\n",
       " 'insurance.csv',\n",
       " 'insuran_analysis.ipynb',\n",
       " 'titanic test.csv',\n",
       " 'titanic_train.csv',\n",
       " 'Untitled.ipynb']"
      ]
     },
     "execution_count": 3,
     "metadata": {},
     "output_type": "execute_result"
    }
   ],
   "source": [
    "os.listdir()"
   ]
  },
  {
   "cell_type": "code",
   "execution_count": 4,
   "id": "6516f20d",
   "metadata": {},
   "outputs": [],
   "source": [
    "titanic = pd.read_csv('titanic test.csv')"
   ]
  },
  {
   "cell_type": "code",
   "execution_count": 5,
   "id": "9f1fccc8",
   "metadata": {},
   "outputs": [
    {
     "data": {
      "text/html": [
       "<div>\n",
       "<style scoped>\n",
       "    .dataframe tbody tr th:only-of-type {\n",
       "        vertical-align: middle;\n",
       "    }\n",
       "\n",
       "    .dataframe tbody tr th {\n",
       "        vertical-align: top;\n",
       "    }\n",
       "\n",
       "    .dataframe thead th {\n",
       "        text-align: right;\n",
       "    }\n",
       "</style>\n",
       "<table border=\"1\" class=\"dataframe\">\n",
       "  <thead>\n",
       "    <tr style=\"text-align: right;\">\n",
       "      <th></th>\n",
       "      <th>PassengerId</th>\n",
       "      <th>Pclass</th>\n",
       "      <th>Name</th>\n",
       "      <th>Sex</th>\n",
       "      <th>Age</th>\n",
       "      <th>SibSp</th>\n",
       "      <th>Parch</th>\n",
       "      <th>Ticket</th>\n",
       "      <th>Fare</th>\n",
       "      <th>Cabin</th>\n",
       "      <th>Embarked</th>\n",
       "    </tr>\n",
       "  </thead>\n",
       "  <tbody>\n",
       "    <tr>\n",
       "      <th>0</th>\n",
       "      <td>892</td>\n",
       "      <td>3</td>\n",
       "      <td>Kelly, Mr. James</td>\n",
       "      <td>male</td>\n",
       "      <td>34.5</td>\n",
       "      <td>0</td>\n",
       "      <td>0</td>\n",
       "      <td>330911</td>\n",
       "      <td>7.8292</td>\n",
       "      <td>NaN</td>\n",
       "      <td>Q</td>\n",
       "    </tr>\n",
       "    <tr>\n",
       "      <th>1</th>\n",
       "      <td>893</td>\n",
       "      <td>3</td>\n",
       "      <td>Wilkes, Mrs. James (Ellen Needs)</td>\n",
       "      <td>female</td>\n",
       "      <td>47.0</td>\n",
       "      <td>1</td>\n",
       "      <td>0</td>\n",
       "      <td>363272</td>\n",
       "      <td>7.0000</td>\n",
       "      <td>NaN</td>\n",
       "      <td>S</td>\n",
       "    </tr>\n",
       "    <tr>\n",
       "      <th>2</th>\n",
       "      <td>894</td>\n",
       "      <td>2</td>\n",
       "      <td>Myles, Mr. Thomas Francis</td>\n",
       "      <td>male</td>\n",
       "      <td>62.0</td>\n",
       "      <td>0</td>\n",
       "      <td>0</td>\n",
       "      <td>240276</td>\n",
       "      <td>9.6875</td>\n",
       "      <td>NaN</td>\n",
       "      <td>Q</td>\n",
       "    </tr>\n",
       "    <tr>\n",
       "      <th>3</th>\n",
       "      <td>895</td>\n",
       "      <td>3</td>\n",
       "      <td>Wirz, Mr. Albert</td>\n",
       "      <td>male</td>\n",
       "      <td>27.0</td>\n",
       "      <td>0</td>\n",
       "      <td>0</td>\n",
       "      <td>315154</td>\n",
       "      <td>8.6625</td>\n",
       "      <td>NaN</td>\n",
       "      <td>S</td>\n",
       "    </tr>\n",
       "    <tr>\n",
       "      <th>4</th>\n",
       "      <td>896</td>\n",
       "      <td>3</td>\n",
       "      <td>Hirvonen, Mrs. Alexander (Helga E Lindqvist)</td>\n",
       "      <td>female</td>\n",
       "      <td>22.0</td>\n",
       "      <td>1</td>\n",
       "      <td>1</td>\n",
       "      <td>3101298</td>\n",
       "      <td>12.2875</td>\n",
       "      <td>NaN</td>\n",
       "      <td>S</td>\n",
       "    </tr>\n",
       "    <tr>\n",
       "      <th>...</th>\n",
       "      <td>...</td>\n",
       "      <td>...</td>\n",
       "      <td>...</td>\n",
       "      <td>...</td>\n",
       "      <td>...</td>\n",
       "      <td>...</td>\n",
       "      <td>...</td>\n",
       "      <td>...</td>\n",
       "      <td>...</td>\n",
       "      <td>...</td>\n",
       "      <td>...</td>\n",
       "    </tr>\n",
       "    <tr>\n",
       "      <th>413</th>\n",
       "      <td>1305</td>\n",
       "      <td>3</td>\n",
       "      <td>Spector, Mr. Woolf</td>\n",
       "      <td>male</td>\n",
       "      <td>NaN</td>\n",
       "      <td>0</td>\n",
       "      <td>0</td>\n",
       "      <td>A.5. 3236</td>\n",
       "      <td>8.0500</td>\n",
       "      <td>NaN</td>\n",
       "      <td>S</td>\n",
       "    </tr>\n",
       "    <tr>\n",
       "      <th>414</th>\n",
       "      <td>1306</td>\n",
       "      <td>1</td>\n",
       "      <td>Oliva y Ocana, Dona. Fermina</td>\n",
       "      <td>female</td>\n",
       "      <td>39.0</td>\n",
       "      <td>0</td>\n",
       "      <td>0</td>\n",
       "      <td>PC 17758</td>\n",
       "      <td>108.9000</td>\n",
       "      <td>C105</td>\n",
       "      <td>C</td>\n",
       "    </tr>\n",
       "    <tr>\n",
       "      <th>415</th>\n",
       "      <td>1307</td>\n",
       "      <td>3</td>\n",
       "      <td>Saether, Mr. Simon Sivertsen</td>\n",
       "      <td>male</td>\n",
       "      <td>38.5</td>\n",
       "      <td>0</td>\n",
       "      <td>0</td>\n",
       "      <td>SOTON/O.Q. 3101262</td>\n",
       "      <td>7.2500</td>\n",
       "      <td>NaN</td>\n",
       "      <td>S</td>\n",
       "    </tr>\n",
       "    <tr>\n",
       "      <th>416</th>\n",
       "      <td>1308</td>\n",
       "      <td>3</td>\n",
       "      <td>Ware, Mr. Frederick</td>\n",
       "      <td>male</td>\n",
       "      <td>NaN</td>\n",
       "      <td>0</td>\n",
       "      <td>0</td>\n",
       "      <td>359309</td>\n",
       "      <td>8.0500</td>\n",
       "      <td>NaN</td>\n",
       "      <td>S</td>\n",
       "    </tr>\n",
       "    <tr>\n",
       "      <th>417</th>\n",
       "      <td>1309</td>\n",
       "      <td>3</td>\n",
       "      <td>Peter, Master. Michael J</td>\n",
       "      <td>male</td>\n",
       "      <td>NaN</td>\n",
       "      <td>1</td>\n",
       "      <td>1</td>\n",
       "      <td>2668</td>\n",
       "      <td>22.3583</td>\n",
       "      <td>NaN</td>\n",
       "      <td>C</td>\n",
       "    </tr>\n",
       "  </tbody>\n",
       "</table>\n",
       "<p>418 rows × 11 columns</p>\n",
       "</div>"
      ],
      "text/plain": [
       "     PassengerId  Pclass                                          Name  \\\n",
       "0            892       3                              Kelly, Mr. James   \n",
       "1            893       3              Wilkes, Mrs. James (Ellen Needs)   \n",
       "2            894       2                     Myles, Mr. Thomas Francis   \n",
       "3            895       3                              Wirz, Mr. Albert   \n",
       "4            896       3  Hirvonen, Mrs. Alexander (Helga E Lindqvist)   \n",
       "..           ...     ...                                           ...   \n",
       "413         1305       3                            Spector, Mr. Woolf   \n",
       "414         1306       1                  Oliva y Ocana, Dona. Fermina   \n",
       "415         1307       3                  Saether, Mr. Simon Sivertsen   \n",
       "416         1308       3                           Ware, Mr. Frederick   \n",
       "417         1309       3                      Peter, Master. Michael J   \n",
       "\n",
       "        Sex   Age  SibSp  Parch              Ticket      Fare Cabin Embarked  \n",
       "0      male  34.5      0      0              330911    7.8292   NaN        Q  \n",
       "1    female  47.0      1      0              363272    7.0000   NaN        S  \n",
       "2      male  62.0      0      0              240276    9.6875   NaN        Q  \n",
       "3      male  27.0      0      0              315154    8.6625   NaN        S  \n",
       "4    female  22.0      1      1             3101298   12.2875   NaN        S  \n",
       "..      ...   ...    ...    ...                 ...       ...   ...      ...  \n",
       "413    male   NaN      0      0           A.5. 3236    8.0500   NaN        S  \n",
       "414  female  39.0      0      0            PC 17758  108.9000  C105        C  \n",
       "415    male  38.5      0      0  SOTON/O.Q. 3101262    7.2500   NaN        S  \n",
       "416    male   NaN      0      0              359309    8.0500   NaN        S  \n",
       "417    male   NaN      1      1                2668   22.3583   NaN        C  \n",
       "\n",
       "[418 rows x 11 columns]"
      ]
     },
     "execution_count": 5,
     "metadata": {},
     "output_type": "execute_result"
    }
   ],
   "source": [
    "titanic"
   ]
  },
  {
   "cell_type": "code",
   "execution_count": 6,
   "id": "3907c3fa",
   "metadata": {},
   "outputs": [
    {
     "name": "stdout",
     "output_type": "stream",
     "text": [
      "<class 'pandas.core.frame.DataFrame'>\n",
      "RangeIndex: 418 entries, 0 to 417\n",
      "Data columns (total 11 columns):\n",
      " #   Column       Non-Null Count  Dtype  \n",
      "---  ------       --------------  -----  \n",
      " 0   PassengerId  418 non-null    int64  \n",
      " 1   Pclass       418 non-null    int64  \n",
      " 2   Name         418 non-null    object \n",
      " 3   Sex          418 non-null    object \n",
      " 4   Age          332 non-null    float64\n",
      " 5   SibSp        418 non-null    int64  \n",
      " 6   Parch        418 non-null    int64  \n",
      " 7   Ticket       418 non-null    object \n",
      " 8   Fare         417 non-null    float64\n",
      " 9   Cabin        91 non-null     object \n",
      " 10  Embarked     418 non-null    object \n",
      "dtypes: float64(2), int64(4), object(5)\n",
      "memory usage: 36.0+ KB\n"
     ]
    }
   ],
   "source": [
    "titanic.info()"
   ]
  },
  {
   "cell_type": "code",
   "execution_count": 7,
   "id": "0da1b84f",
   "metadata": {},
   "outputs": [
    {
     "data": {
      "text/html": [
       "<div>\n",
       "<style scoped>\n",
       "    .dataframe tbody tr th:only-of-type {\n",
       "        vertical-align: middle;\n",
       "    }\n",
       "\n",
       "    .dataframe tbody tr th {\n",
       "        vertical-align: top;\n",
       "    }\n",
       "\n",
       "    .dataframe thead th {\n",
       "        text-align: right;\n",
       "    }\n",
       "</style>\n",
       "<table border=\"1\" class=\"dataframe\">\n",
       "  <thead>\n",
       "    <tr style=\"text-align: right;\">\n",
       "      <th></th>\n",
       "      <th>PassengerId</th>\n",
       "      <th>Pclass</th>\n",
       "      <th>Age</th>\n",
       "      <th>SibSp</th>\n",
       "      <th>Parch</th>\n",
       "      <th>Fare</th>\n",
       "    </tr>\n",
       "  </thead>\n",
       "  <tbody>\n",
       "    <tr>\n",
       "      <th>count</th>\n",
       "      <td>418.000000</td>\n",
       "      <td>418.000000</td>\n",
       "      <td>332.000000</td>\n",
       "      <td>418.000000</td>\n",
       "      <td>418.000000</td>\n",
       "      <td>417.000000</td>\n",
       "    </tr>\n",
       "    <tr>\n",
       "      <th>mean</th>\n",
       "      <td>1100.500000</td>\n",
       "      <td>2.265550</td>\n",
       "      <td>30.272590</td>\n",
       "      <td>0.447368</td>\n",
       "      <td>0.392344</td>\n",
       "      <td>35.627188</td>\n",
       "    </tr>\n",
       "    <tr>\n",
       "      <th>std</th>\n",
       "      <td>120.810458</td>\n",
       "      <td>0.841838</td>\n",
       "      <td>14.181209</td>\n",
       "      <td>0.896760</td>\n",
       "      <td>0.981429</td>\n",
       "      <td>55.907576</td>\n",
       "    </tr>\n",
       "    <tr>\n",
       "      <th>min</th>\n",
       "      <td>892.000000</td>\n",
       "      <td>1.000000</td>\n",
       "      <td>0.170000</td>\n",
       "      <td>0.000000</td>\n",
       "      <td>0.000000</td>\n",
       "      <td>0.000000</td>\n",
       "    </tr>\n",
       "    <tr>\n",
       "      <th>25%</th>\n",
       "      <td>996.250000</td>\n",
       "      <td>1.000000</td>\n",
       "      <td>21.000000</td>\n",
       "      <td>0.000000</td>\n",
       "      <td>0.000000</td>\n",
       "      <td>7.895800</td>\n",
       "    </tr>\n",
       "    <tr>\n",
       "      <th>50%</th>\n",
       "      <td>1100.500000</td>\n",
       "      <td>3.000000</td>\n",
       "      <td>27.000000</td>\n",
       "      <td>0.000000</td>\n",
       "      <td>0.000000</td>\n",
       "      <td>14.454200</td>\n",
       "    </tr>\n",
       "    <tr>\n",
       "      <th>75%</th>\n",
       "      <td>1204.750000</td>\n",
       "      <td>3.000000</td>\n",
       "      <td>39.000000</td>\n",
       "      <td>1.000000</td>\n",
       "      <td>0.000000</td>\n",
       "      <td>31.500000</td>\n",
       "    </tr>\n",
       "    <tr>\n",
       "      <th>max</th>\n",
       "      <td>1309.000000</td>\n",
       "      <td>3.000000</td>\n",
       "      <td>76.000000</td>\n",
       "      <td>8.000000</td>\n",
       "      <td>9.000000</td>\n",
       "      <td>512.329200</td>\n",
       "    </tr>\n",
       "  </tbody>\n",
       "</table>\n",
       "</div>"
      ],
      "text/plain": [
       "       PassengerId      Pclass         Age       SibSp       Parch        Fare\n",
       "count   418.000000  418.000000  332.000000  418.000000  418.000000  417.000000\n",
       "mean   1100.500000    2.265550   30.272590    0.447368    0.392344   35.627188\n",
       "std     120.810458    0.841838   14.181209    0.896760    0.981429   55.907576\n",
       "min     892.000000    1.000000    0.170000    0.000000    0.000000    0.000000\n",
       "25%     996.250000    1.000000   21.000000    0.000000    0.000000    7.895800\n",
       "50%    1100.500000    3.000000   27.000000    0.000000    0.000000   14.454200\n",
       "75%    1204.750000    3.000000   39.000000    1.000000    0.000000   31.500000\n",
       "max    1309.000000    3.000000   76.000000    8.000000    9.000000  512.329200"
      ]
     },
     "execution_count": 7,
     "metadata": {},
     "output_type": "execute_result"
    }
   ],
   "source": [
    "titanic.describe()"
   ]
  },
  {
   "cell_type": "code",
   "execution_count": 8,
   "id": "f5b7a173",
   "metadata": {},
   "outputs": [
    {
     "data": {
      "text/html": [
       "<div>\n",
       "<style scoped>\n",
       "    .dataframe tbody tr th:only-of-type {\n",
       "        vertical-align: middle;\n",
       "    }\n",
       "\n",
       "    .dataframe tbody tr th {\n",
       "        vertical-align: top;\n",
       "    }\n",
       "\n",
       "    .dataframe thead th {\n",
       "        text-align: right;\n",
       "    }\n",
       "</style>\n",
       "<table border=\"1\" class=\"dataframe\">\n",
       "  <thead>\n",
       "    <tr style=\"text-align: right;\">\n",
       "      <th></th>\n",
       "      <th>Name</th>\n",
       "      <th>Sex</th>\n",
       "      <th>Ticket</th>\n",
       "      <th>Cabin</th>\n",
       "      <th>Embarked</th>\n",
       "    </tr>\n",
       "  </thead>\n",
       "  <tbody>\n",
       "    <tr>\n",
       "      <th>count</th>\n",
       "      <td>418</td>\n",
       "      <td>418</td>\n",
       "      <td>418</td>\n",
       "      <td>91</td>\n",
       "      <td>418</td>\n",
       "    </tr>\n",
       "    <tr>\n",
       "      <th>unique</th>\n",
       "      <td>418</td>\n",
       "      <td>2</td>\n",
       "      <td>363</td>\n",
       "      <td>76</td>\n",
       "      <td>3</td>\n",
       "    </tr>\n",
       "    <tr>\n",
       "      <th>top</th>\n",
       "      <td>Kelly, Mr. James</td>\n",
       "      <td>male</td>\n",
       "      <td>PC 17608</td>\n",
       "      <td>B57 B59 B63 B66</td>\n",
       "      <td>S</td>\n",
       "    </tr>\n",
       "    <tr>\n",
       "      <th>freq</th>\n",
       "      <td>1</td>\n",
       "      <td>266</td>\n",
       "      <td>5</td>\n",
       "      <td>3</td>\n",
       "      <td>270</td>\n",
       "    </tr>\n",
       "  </tbody>\n",
       "</table>\n",
       "</div>"
      ],
      "text/plain": [
       "                    Name   Sex    Ticket            Cabin Embarked\n",
       "count                418   418       418               91      418\n",
       "unique               418     2       363               76        3\n",
       "top     Kelly, Mr. James  male  PC 17608  B57 B59 B63 B66        S\n",
       "freq                   1   266         5                3      270"
      ]
     },
     "execution_count": 8,
     "metadata": {},
     "output_type": "execute_result"
    }
   ],
   "source": [
    "nn_df = titanic.select_dtypes(exclude = np.number)\n",
    "nn_df.describe()"
   ]
  },
  {
   "cell_type": "code",
   "execution_count": 9,
   "id": "2dd87f66",
   "metadata": {},
   "outputs": [
    {
     "data": {
      "text/plain": [
       "nan"
      ]
     },
     "execution_count": 9,
     "metadata": {},
     "output_type": "execute_result"
    }
   ],
   "source": [
    "np.median(titanic['Fare'])"
   ]
  },
  {
   "cell_type": "code",
   "execution_count": 10,
   "id": "3dc4fdca",
   "metadata": {},
   "outputs": [
    {
     "data": {
      "text/plain": [
       "14.4542"
      ]
     },
     "execution_count": 10,
     "metadata": {},
     "output_type": "execute_result"
    }
   ],
   "source": [
    "np.nanmedian(titanic['Fare'])"
   ]
  },
  {
   "cell_type": "code",
   "execution_count": 11,
   "id": "12d17555",
   "metadata": {},
   "outputs": [
    {
     "data": {
      "text/plain": [
       "0"
      ]
     },
     "execution_count": 11,
     "metadata": {},
     "output_type": "execute_result"
    }
   ],
   "source": [
    "titanic['Fare'].fillna(np.nanmedian(titanic['Fare']),inplace =True)\n",
    "titanic['Fare'].isnull().sum()"
   ]
  },
  {
   "cell_type": "code",
   "execution_count": 12,
   "id": "1628f761",
   "metadata": {},
   "outputs": [
    {
     "data": {
      "text/plain": [
       "Index(['PassengerId', 'Pclass', 'Name', 'Sex', 'Age', 'SibSp', 'Parch',\n",
       "       'Ticket', 'Fare', 'Cabin', 'Embarked'],\n",
       "      dtype='object')"
      ]
     },
     "execution_count": 12,
     "metadata": {},
     "output_type": "execute_result"
    }
   ],
   "source": [
    "titanic.columns"
   ]
  },
  {
   "cell_type": "markdown",
   "id": "9c5960cb",
   "metadata": {},
   "source": [
    "## Tests\n",
    "- one continous\n",
    "- one categorical\n",
    "- two categorical\n",
    "- two continous\n",
    "- one continous one categorical(t-test)\n",
    "- one continous one categorical(Annova)"
   ]
  },
  {
   "cell_type": "markdown",
   "id": "e56f5dbf",
   "metadata": {},
   "source": [
    "### One continuous"
   ]
  },
  {
   "cell_type": "code",
   "execution_count": 13,
   "id": "71aab228",
   "metadata": {},
   "outputs": [
    {
     "data": {
      "text/plain": [
       "<AxesSubplot:xlabel='Fare', ylabel='Density'>"
      ]
     },
     "execution_count": 13,
     "metadata": {},
     "output_type": "execute_result"
    },
    {
     "data": {
      "image/png": "[encoded data removed]",
      "text/plain": [
       "<Figure size 432x288 with 1 Axes>"
      ]
     },
     "metadata": {
      "needs_background": "light"
     },
     "output_type": "display_data"
    }
   ],
   "source": [
    "sns.kdeplot(x = titanic.Fare,fill =True)"
   ]
  },
  {
   "cell_type": "markdown",
   "id": "bd0887e6",
   "metadata": {},
   "source": [
    "Find the interval of population given aplha = 0.05"
   ]
  },
  {
   "cell_type": "markdown",
   "id": "5b889419",
   "metadata": {},
   "source": [
    "#### Method 1 (manual)"
   ]
  },
  {
   "cell_type": "code",
   "execution_count": 14,
   "id": "508aa5e7",
   "metadata": {},
   "outputs": [
    {
     "data": {
      "text/plain": [
       "418"
      ]
     },
     "execution_count": 14,
     "metadata": {},
     "output_type": "execute_result"
    }
   ],
   "source": [
    "len(titanic.Fare)"
   ]
  },
  {
   "cell_type": "code",
   "execution_count": 15,
   "id": "e4e5d1a3",
   "metadata": {},
   "outputs": [
    {
     "name": "stdout",
     "output_type": "stream",
     "text": [
      "1.965669151283938\n",
      "55.783256347325455\n",
      "20.445048300260872\n"
     ]
    }
   ],
   "source": [
    "t = stats.t.ppf(q=0.975,df = 417)\n",
    "print(t)\n",
    "std = np.std(titanic.Fare)\n",
    "print(std)\n",
    "sqrt = np.sqrt(len(titanic.Fare))\n",
    "print(sqrt)"
   ]
  },
  {
   "cell_type": "code",
   "execution_count": 16,
   "id": "672e13b7",
   "metadata": {},
   "outputs": [
    {
     "data": {
      "text/plain": [
       "(30.213308842019668, 40.93976197137739)"
      ]
     },
     "execution_count": 16,
     "metadata": {},
     "output_type": "execute_result"
    }
   ],
   "source": [
    "tuples = (np.mean(titanic.Fare)-(t*std/sqrt),np.mean(titanic.Fare)+(t*std/sqrt))\n",
    "tuples"
   ]
  },
  {
   "cell_type": "markdown",
   "id": "d2e41cd7",
   "metadata": {},
   "source": [
    "#### Method 2 (using library)"
   ]
  },
  {
   "cell_type": "code",
   "execution_count": 17,
   "id": "6946b963",
   "metadata": {},
   "outputs": [
    {
     "data": {
      "text/plain": [
       "(30.213308842019668, 40.93976197137739)"
      ]
     },
     "execution_count": 17,
     "metadata": {},
     "output_type": "execute_result"
    }
   ],
   "source": [
    "interval= stats.t.interval(0.95,df = 417,loc = titanic.Fare.mean(),scale = std/sqrt)\n",
    "interval"
   ]
  },
  {
   "cell_type": "code",
   "execution_count": 18,
   "id": "040dde7b",
   "metadata": {},
   "outputs": [
    {
     "data": {
      "text/plain": [
       "(30.228875094263458, 40.92419571913361)"
      ]
     },
     "execution_count": 18,
     "metadata": {},
     "output_type": "execute_result"
    }
   ],
   "source": [
    "interval_z = stats.norm.interval(0.95,loc = titanic.Fare.mean(),scale = std/sqrt)\n",
    "interval_z"
   ]
  },
  {
   "cell_type": "markdown",
   "id": "8e9440b9",
   "metadata": {},
   "source": [
    "### one categorical"
   ]
  },
  {
   "cell_type": "code",
   "execution_count": 19,
   "id": "0d5a4e9c",
   "metadata": {},
   "outputs": [
    {
     "data": {
      "text/plain": [
       "<AxesSubplot:>"
      ]
     },
     "execution_count": 19,
     "metadata": {},
     "output_type": "execute_result"
    },
    {
     "data": {
      "image/png": "[encoded data removed]",
      "text/plain": [
       "<Figure size 432x288 with 1 Axes>"
      ]
     },
     "metadata": {
      "needs_background": "light"
     },
     "output_type": "display_data"
    }
   ],
   "source": [
    "sns.barplot(x=titanic.Sex.value_counts().index,y=titanic.Sex.value_counts().values)"
   ]
  },
  {
   "cell_type": "markdown",
   "id": "0c2a4d33",
   "metadata": {},
   "source": [
    "The test Used here is Chi-squared test"
   ]
  },
  {
   "cell_type": "code",
   "execution_count": 20,
   "id": "d6f3ce5e",
   "metadata": {},
   "outputs": [
    {
     "data": {
      "text/plain": [
       "Power_divergenceResult(statistic=31.09090909090909, pvalue=2.4622186759083766e-08)"
      ]
     },
     "execution_count": 20,
     "metadata": {},
     "output_type": "execute_result"
    }
   ],
   "source": [
    "stats.chisquare(f_obs = titanic.Sex.value_counts())"
   ]
  },
  {
   "cell_type": "code",
   "execution_count": 21,
   "id": "3515f3c4",
   "metadata": {},
   "outputs": [
    {
     "data": {
      "text/plain": [
       "3.841458820694124"
      ]
     },
     "execution_count": 21,
     "metadata": {},
     "output_type": "execute_result"
    }
   ],
   "source": [
    "crit_statistic = stats.chi2.ppf(q=0.95,df=1)\n",
    "crit_statistic"
   ]
  },
  {
   "cell_type": "markdown",
   "id": "9647969c",
   "metadata": {},
   "source": [
    "Our test statistic is much larger than critical hence reject the null hypothesis.where\n",
    "\n",
    "H0 : there is no difference due to categories\n",
    "\n",
    "H1 : There is a difference due to categories\n"
   ]
  },
  {
   "cell_type": "markdown",
   "id": "037486d6",
   "metadata": {},
   "source": [
    "#### Typical Chi-Square distribution for 1 dof"
   ]
  },
  {
   "cell_type": "code",
   "execution_count": 22,
   "id": "2f4a88c1",
   "metadata": {},
   "outputs": [
    {
     "data": {
      "text/plain": [
       "(0.0, 11.71822390691517)"
      ]
     },
     "execution_count": 22,
     "metadata": {},
     "output_type": "execute_result"
    },
    {
     "data": {
      "image/png": "[encoded data removed]",
      "text/plain": [
       "<Figure size 432x288 with 1 Axes>"
      ]
     },
     "metadata": {
      "needs_background": "light"
     },
     "output_type": "display_data"
    }
   ],
   "source": [
    "x=stats.chi2.rvs(size = 1000,df = 1)\n",
    "pl = sns.kdeplot(x=x,fill = True,cut = True)\n",
    "pl.set_xlim(left =0)"
   ]
  },
  {
   "cell_type": "markdown",
   "id": "6a351891",
   "metadata": {},
   "source": [
    "### Two categorical variable\n",
    "\n",
    "H0 : There is no relationship b/w the categories\n",
    "\n",
    "H1 : There is a relationship b/w the categories"
   ]
  },
  {
   "cell_type": "code",
   "execution_count": 23,
   "id": "58174857",
   "metadata": {},
   "outputs": [
    {
     "data": {
      "text/plain": [
       "Index(['PassengerId', 'Pclass', 'Name', 'Sex', 'Age', 'SibSp', 'Parch',\n",
       "       'Ticket', 'Fare', 'Cabin', 'Embarked'],\n",
       "      dtype='object')"
      ]
     },
     "execution_count": 23,
     "metadata": {},
     "output_type": "execute_result"
    }
   ],
   "source": [
    "titanic.columns"
   ]
  },
  {
   "cell_type": "markdown",
   "id": "8aebb8a6",
   "metadata": {},
   "source": [
    "Passenger class here is taken as category"
   ]
  },
  {
   "cell_type": "code",
   "execution_count": 24,
   "id": "6a014a1a",
   "metadata": {},
   "outputs": [
    {
     "data": {
      "text/plain": [
       "array([3, 2, 1], dtype=int64)"
      ]
     },
     "execution_count": 24,
     "metadata": {},
     "output_type": "execute_result"
    }
   ],
   "source": [
    "titanic.Pclass.unique()"
   ]
  },
  {
   "cell_type": "code",
   "execution_count": 25,
   "id": "2dacfc92",
   "metadata": {},
   "outputs": [],
   "source": [
    "titanic.Pclass = pd.Categorical(titanic.Pclass)"
   ]
  },
  {
   "cell_type": "code",
   "execution_count": 26,
   "id": "ad10e5ba",
   "metadata": {},
   "outputs": [
    {
     "data": {
      "text/html": [
       "<div>\n",
       "<style scoped>\n",
       "    .dataframe tbody tr th:only-of-type {\n",
       "        vertical-align: middle;\n",
       "    }\n",
       "\n",
       "    .dataframe tbody tr th {\n",
       "        vertical-align: top;\n",
       "    }\n",
       "\n",
       "    .dataframe thead th {\n",
       "        text-align: right;\n",
       "    }\n",
       "</style>\n",
       "<table border=\"1\" class=\"dataframe\">\n",
       "  <thead>\n",
       "    <tr style=\"text-align: right;\">\n",
       "      <th>Pclass</th>\n",
       "      <th>A</th>\n",
       "      <th>B</th>\n",
       "      <th>C</th>\n",
       "    </tr>\n",
       "    <tr>\n",
       "      <th>Sex</th>\n",
       "      <th></th>\n",
       "      <th></th>\n",
       "      <th></th>\n",
       "    </tr>\n",
       "  </thead>\n",
       "  <tbody>\n",
       "    <tr>\n",
       "      <th>female</th>\n",
       "      <td>50</td>\n",
       "      <td>30</td>\n",
       "      <td>72</td>\n",
       "    </tr>\n",
       "    <tr>\n",
       "      <th>male</th>\n",
       "      <td>57</td>\n",
       "      <td>63</td>\n",
       "      <td>146</td>\n",
       "    </tr>\n",
       "  </tbody>\n",
       "</table>\n",
       "</div>"
      ],
      "text/plain": [
       "Pclass   A   B    C\n",
       "Sex                \n",
       "female  50  30   72\n",
       "male    57  63  146"
      ]
     },
     "execution_count": 26,
     "metadata": {},
     "output_type": "execute_result"
    }
   ],
   "source": [
    "titanic['Pclass'] = titanic['Pclass'].cat.rename_categories(['A','B','C'])\n",
    "frq_tble = pd.crosstab(index =titanic.Sex,columns = titanic.Pclass)\n",
    "frq_tble"
   ]
  },
  {
   "cell_type": "markdown",
   "id": "a6ae9f67",
   "metadata": {},
   "source": [
    " #### Method 1 Using scipy.stats library"
   ]
  },
  {
   "cell_type": "code",
   "execution_count": 27,
   "id": "ea310515",
   "metadata": {},
   "outputs": [],
   "source": [
    "observed = frq_tble.values"
   ]
  },
  {
   "cell_type": "code",
   "execution_count": 28,
   "id": "19d578fb",
   "metadata": {},
   "outputs": [],
   "source": [
    "val = stats.chi2_contingency(frq_tble)"
   ]
  },
  {
   "cell_type": "markdown",
   "id": "8c91fca2",
   "metadata": {},
   "source": [
    "The output shows the chi-square statistic, the p-value and the degrees of freedom followed by the expected counts."
   ]
  },
  {
   "cell_type": "markdown",
   "id": "03e5e490",
   "metadata": {},
   "source": [
    "Since pvalue is less than 0.05 therefore we reject null hypothesis."
   ]
  },
  {
   "cell_type": "code",
   "execution_count": 29,
   "id": "522845a9",
   "metadata": {},
   "outputs": [
    {
     "data": {
      "text/plain": [
       "Index(['PassengerId', 'Pclass', 'Name', 'Sex', 'Age', 'SibSp', 'Parch',\n",
       "       'Ticket', 'Fare', 'Cabin', 'Embarked'],\n",
       "      dtype='object')"
      ]
     },
     "execution_count": 29,
     "metadata": {},
     "output_type": "execute_result"
    }
   ],
   "source": [
    "titanic.columns"
   ]
  },
  {
   "cell_type": "code",
   "execution_count": 30,
   "id": "cfa77ce1",
   "metadata": {},
   "outputs": [
    {
     "data": {
      "text/plain": [
       "<AxesSubplot:xlabel='Sex'>"
      ]
     },
     "execution_count": 30,
     "metadata": {},
     "output_type": "execute_result"
    },
    {
     "data": {
      "image/png": "[encoded data removed]",
      "text/plain": [
       "<Figure size 432x288 with 1 Axes>"
      ]
     },
     "metadata": {
      "needs_background": "light"
     },
     "output_type": "display_data"
    }
   ],
   "source": [
    "frq_tble.plot(kind = 'bar',stacked = True,rot = 0)"
   ]
  },
  {
   "cell_type": "markdown",
   "id": "323a7b6a",
   "metadata": {},
   "source": [
    "### Two continous"
   ]
  },
  {
   "cell_type": "code",
   "execution_count": 31,
   "id": "177e6299",
   "metadata": {},
   "outputs": [
    {
     "data": {
      "text/plain": [
       "Index(['PassengerId', 'Pclass', 'Name', 'Sex', 'Age', 'SibSp', 'Parch',\n",
       "       'Ticket', 'Fare', 'Cabin', 'Embarked'],\n",
       "      dtype='object')"
      ]
     },
     "execution_count": 31,
     "metadata": {},
     "output_type": "execute_result"
    }
   ],
   "source": [
    "titanic.columns"
   ]
  },
  {
   "cell_type": "markdown",
   "id": "588c0893",
   "metadata": {},
   "source": [
    "Age and Fare are two choosen continous variable"
   ]
  },
  {
   "cell_type": "markdown",
   "id": "0907016a",
   "metadata": {},
   "source": [
    "#### Method 1"
   ]
  },
  {
   "cell_type": "code",
   "execution_count": 32,
   "id": "fe081350",
   "metadata": {},
   "outputs": [
    {
     "data": {
      "text/html": [
       "<div>\n",
       "<style scoped>\n",
       "    .dataframe tbody tr th:only-of-type {\n",
       "        vertical-align: middle;\n",
       "    }\n",
       "\n",
       "    .dataframe tbody tr th {\n",
       "        vertical-align: top;\n",
       "    }\n",
       "\n",
       "    .dataframe thead th {\n",
       "        text-align: right;\n",
       "    }\n",
       "</style>\n",
       "<table border=\"1\" class=\"dataframe\">\n",
       "  <thead>\n",
       "    <tr style=\"text-align: right;\">\n",
       "      <th></th>\n",
       "      <th>Age</th>\n",
       "      <th>Fare</th>\n",
       "    </tr>\n",
       "  </thead>\n",
       "  <tbody>\n",
       "    <tr>\n",
       "      <th>Age</th>\n",
       "      <td>1.000000</td>\n",
       "      <td>0.332709</td>\n",
       "    </tr>\n",
       "    <tr>\n",
       "      <th>Fare</th>\n",
       "      <td>0.332709</td>\n",
       "      <td>1.000000</td>\n",
       "    </tr>\n",
       "  </tbody>\n",
       "</table>\n",
       "</div>"
      ],
      "text/plain": [
       "           Age      Fare\n",
       "Age   1.000000  0.332709\n",
       "Fare  0.332709  1.000000"
      ]
     },
     "execution_count": 32,
     "metadata": {},
     "output_type": "execute_result"
    }
   ],
   "source": [
    "titanic[['Age','Fare']].corr()"
   ]
  },
  {
   "cell_type": "markdown",
   "id": "f9481639",
   "metadata": {},
   "source": [
    "#### Method 2"
   ]
  },
  {
   "cell_type": "code",
   "execution_count": 33,
   "id": "743b409f",
   "metadata": {},
   "outputs": [
    {
     "data": {
      "text/plain": [
       "array([[nan, nan],\n",
       "       [nan,  1.]])"
      ]
     },
     "execution_count": 33,
     "metadata": {},
     "output_type": "execute_result"
    }
   ],
   "source": [
    "np.corrcoef(titanic['Age'],titanic['Fare'])"
   ]
  },
  {
   "cell_type": "code",
   "execution_count": 34,
   "id": "c8f213fd",
   "metadata": {},
   "outputs": [
    {
     "data": {
      "text/plain": [
       "array([[1.        , 0.32456842],\n",
       "       [0.32456842, 1.        ]])"
      ]
     },
     "execution_count": 34,
     "metadata": {},
     "output_type": "execute_result"
    }
   ],
   "source": [
    "c = titanic.Age.fillna(np.mean(titanic.Age))\n",
    "np.corrcoef(titanic.Fare,c)"
   ]
  },
  {
   "cell_type": "markdown",
   "id": "398fa93a",
   "metadata": {},
   "source": [
    "### one continous and one categorical (two - sample t-test)"
   ]
  },
  {
   "cell_type": "code",
   "execution_count": 35,
   "id": "a9536631",
   "metadata": {},
   "outputs": [
    {
     "data": {
      "text/plain": [
       "Index(['PassengerId', 'Pclass', 'Name', 'Sex', 'Age', 'SibSp', 'Parch',\n",
       "       'Ticket', 'Fare', 'Cabin', 'Embarked'],\n",
       "      dtype='object')"
      ]
     },
     "execution_count": 35,
     "metadata": {},
     "output_type": "execute_result"
    }
   ],
   "source": [
    "titanic.columns"
   ]
  },
  {
   "cell_type": "markdown",
   "id": "cb209572",
   "metadata": {},
   "source": [
    "Fare choosen as continous variable and sex is choosen as categorical variable"
   ]
  },
  {
   "cell_type": "code",
   "execution_count": 36,
   "id": "4842fc1f",
   "metadata": {},
   "outputs": [
    {
     "data": {
      "text/html": [
       "<div>\n",
       "<style scoped>\n",
       "    .dataframe tbody tr th:only-of-type {\n",
       "        vertical-align: middle;\n",
       "    }\n",
       "\n",
       "    .dataframe tbody tr th {\n",
       "        vertical-align: top;\n",
       "    }\n",
       "\n",
       "    .dataframe thead th {\n",
       "        text-align: right;\n",
       "    }\n",
       "</style>\n",
       "<table border=\"1\" class=\"dataframe\">\n",
       "  <thead>\n",
       "    <tr style=\"text-align: right;\">\n",
       "      <th></th>\n",
       "      <th>Fare</th>\n",
       "      <th>Sex</th>\n",
       "    </tr>\n",
       "  </thead>\n",
       "  <tbody>\n",
       "    <tr>\n",
       "      <th>0</th>\n",
       "      <td>7.8292</td>\n",
       "      <td>male</td>\n",
       "    </tr>\n",
       "    <tr>\n",
       "      <th>1</th>\n",
       "      <td>7.0000</td>\n",
       "      <td>female</td>\n",
       "    </tr>\n",
       "    <tr>\n",
       "      <th>2</th>\n",
       "      <td>9.6875</td>\n",
       "      <td>male</td>\n",
       "    </tr>\n",
       "    <tr>\n",
       "      <th>3</th>\n",
       "      <td>8.6625</td>\n",
       "      <td>male</td>\n",
       "    </tr>\n",
       "    <tr>\n",
       "      <th>4</th>\n",
       "      <td>12.2875</td>\n",
       "      <td>female</td>\n",
       "    </tr>\n",
       "    <tr>\n",
       "      <th>...</th>\n",
       "      <td>...</td>\n",
       "      <td>...</td>\n",
       "    </tr>\n",
       "    <tr>\n",
       "      <th>413</th>\n",
       "      <td>8.0500</td>\n",
       "      <td>male</td>\n",
       "    </tr>\n",
       "    <tr>\n",
       "      <th>414</th>\n",
       "      <td>108.9000</td>\n",
       "      <td>female</td>\n",
       "    </tr>\n",
       "    <tr>\n",
       "      <th>415</th>\n",
       "      <td>7.2500</td>\n",
       "      <td>male</td>\n",
       "    </tr>\n",
       "    <tr>\n",
       "      <th>416</th>\n",
       "      <td>8.0500</td>\n",
       "      <td>male</td>\n",
       "    </tr>\n",
       "    <tr>\n",
       "      <th>417</th>\n",
       "      <td>22.3583</td>\n",
       "      <td>male</td>\n",
       "    </tr>\n",
       "  </tbody>\n",
       "</table>\n",
       "<p>418 rows × 2 columns</p>\n",
       "</div>"
      ],
      "text/plain": [
       "         Fare     Sex\n",
       "0      7.8292    male\n",
       "1      7.0000  female\n",
       "2      9.6875    male\n",
       "3      8.6625    male\n",
       "4     12.2875  female\n",
       "..        ...     ...\n",
       "413    8.0500    male\n",
       "414  108.9000  female\n",
       "415    7.2500    male\n",
       "416    8.0500    male\n",
       "417   22.3583    male\n",
       "\n",
       "[418 rows x 2 columns]"
      ]
     },
     "execution_count": 36,
     "metadata": {},
     "output_type": "execute_result"
    }
   ],
   "source": [
    "cat_con = titanic[['Fare','Sex']]\n",
    "cat_con "
   ]
  },
  {
   "cell_type": "code",
   "execution_count": 37,
   "id": "73a9d743",
   "metadata": {},
   "outputs": [
    {
     "data": {
      "text/plain": [
       "<seaborn.axisgrid.FacetGrid at 0x29c3aec1dc0>"
      ]
     },
     "execution_count": 37,
     "metadata": {},
     "output_type": "execute_result"
    },
    {
     "data": {
      "image/png": "[encoded data removed]",
      "text/plain": [
       "<Figure size 360x360 with 1 Axes>"
      ]
     },
     "metadata": {
      "needs_background": "light"
     },
     "output_type": "display_data"
    }
   ],
   "source": [
    "sns.catplot(x='Sex',y='Fare',data = cat_con)"
   ]
  },
  {
   "cell_type": "markdown",
   "id": "e631bae2",
   "metadata": {},
   "source": [
    "#### Method 1 using scipy library\n",
    "\n",
    "H0 : (mean)MALE = (mean)FEMALE\n",
    "\n",
    "H1 : (mean)MALE != (mean)FEMALE"
   ]
  },
  {
   "cell_type": "code",
   "execution_count": 38,
   "id": "c05d5138",
   "metadata": {},
   "outputs": [],
   "source": [
    "a= cat_con[cat_con.Sex == 'male'].Fare\n",
    "b = cat_con[cat_con.Sex == 'female'].Fare"
   ]
  },
  {
   "cell_type": "code",
   "execution_count": 39,
   "id": "0c60b6b8",
   "metadata": {},
   "outputs": [
    {
     "data": {
      "text/plain": [
       "Ttest_indResult(statistic=-3.4573877036507663, pvalue=0.0006622966209586439)"
      ]
     },
     "execution_count": 39,
     "metadata": {},
     "output_type": "execute_result"
    }
   ],
   "source": [
    "stats.ttest_ind(a= a, b= b,equal_var = False)"
   ]
  },
  {
   "cell_type": "markdown",
   "id": "38f0ea6a",
   "metadata": {},
   "source": [
    "Pvalue is much less than significance level therefore we reject null and accept alternate hypothesis. which implies there is difference due categories\n",
    "even in the population"
   ]
  },
  {
   "cell_type": "markdown",
   "id": "c9f5f67c",
   "metadata": {},
   "source": [
    "#### Theoritical Method"
   ]
  },
  {
   "cell_type": "code",
   "execution_count": 40,
   "id": "8d5d1903",
   "metadata": {},
   "outputs": [
    {
     "name": "stdout",
     "output_type": "stream",
     "text": [
      "266\n",
      "152\n"
     ]
    }
   ],
   "source": [
    "x1 = cat_con[cat_con.Sex == 'male'].Fare\n",
    "sx = len(x1)\n",
    "y1 = cat_con[cat_con.Sex == 'female'].Fare\n",
    "sy = len(y1)\n",
    "print(sx)\n",
    "print(sy)"
   ]
  },
  {
   "cell_type": "code",
   "execution_count": 41,
   "id": "f80188a8",
   "metadata": {},
   "outputs": [],
   "source": [
    "x1_m = x1.mean()\n",
    "y1_m = y1.mean()\n",
    "sqrt = np.sqrt((np.var(x1)/sx) + (np.var(y1)/sy))"
   ]
  },
  {
   "cell_type": "code",
   "execution_count": 42,
   "id": "235e030e",
   "metadata": {},
   "outputs": [
    {
     "data": {
      "text/plain": [
       "-3.4680671459410393"
      ]
     },
     "execution_count": 42,
     "metadata": {},
     "output_type": "execute_result"
    }
   ],
   "source": [
    "t = (x1_m - y1_m)/sqrt\n",
    "t"
   ]
  },
  {
   "cell_type": "code",
   "execution_count": 43,
   "id": "cd6901bc",
   "metadata": {},
   "outputs": [
    {
     "data": {
      "text/plain": [
       "0.000683172711515983"
      ]
     },
     "execution_count": 43,
     "metadata": {},
     "output_type": "execute_result"
    }
   ],
   "source": [
    "pvalue_cal = stats.t.cdf(x=t,df =sy-1 )*2\n",
    "pvalue_cal"
   ]
  },
  {
   "cell_type": "markdown",
   "id": "0d1f390e",
   "metadata": {},
   "source": [
    "df is smaller sample size subtacted by 1 "
   ]
  },
  {
   "cell_type": "markdown",
   "id": "ad804c1f",
   "metadata": {},
   "source": [
    "### ANNOVA"
   ]
  },
  {
   "cell_type": "code",
   "execution_count": 44,
   "id": "10465768",
   "metadata": {},
   "outputs": [
    {
     "data": {
      "text/html": [
       "<div>\n",
       "<style scoped>\n",
       "    .dataframe tbody tr th:only-of-type {\n",
       "        vertical-align: middle;\n",
       "    }\n",
       "\n",
       "    .dataframe tbody tr th {\n",
       "        vertical-align: top;\n",
       "    }\n",
       "\n",
       "    .dataframe thead th {\n",
       "        text-align: right;\n",
       "    }\n",
       "</style>\n",
       "<table border=\"1\" class=\"dataframe\">\n",
       "  <thead>\n",
       "    <tr style=\"text-align: right;\">\n",
       "      <th></th>\n",
       "      <th>Fare</th>\n",
       "      <th>Pclass</th>\n",
       "    </tr>\n",
       "  </thead>\n",
       "  <tbody>\n",
       "    <tr>\n",
       "      <th>0</th>\n",
       "      <td>7.8292</td>\n",
       "      <td>C</td>\n",
       "    </tr>\n",
       "    <tr>\n",
       "      <th>1</th>\n",
       "      <td>7.0000</td>\n",
       "      <td>C</td>\n",
       "    </tr>\n",
       "    <tr>\n",
       "      <th>2</th>\n",
       "      <td>9.6875</td>\n",
       "      <td>B</td>\n",
       "    </tr>\n",
       "    <tr>\n",
       "      <th>3</th>\n",
       "      <td>8.6625</td>\n",
       "      <td>C</td>\n",
       "    </tr>\n",
       "    <tr>\n",
       "      <th>4</th>\n",
       "      <td>12.2875</td>\n",
       "      <td>C</td>\n",
       "    </tr>\n",
       "    <tr>\n",
       "      <th>...</th>\n",
       "      <td>...</td>\n",
       "      <td>...</td>\n",
       "    </tr>\n",
       "    <tr>\n",
       "      <th>413</th>\n",
       "      <td>8.0500</td>\n",
       "      <td>C</td>\n",
       "    </tr>\n",
       "    <tr>\n",
       "      <th>414</th>\n",
       "      <td>108.9000</td>\n",
       "      <td>A</td>\n",
       "    </tr>\n",
       "    <tr>\n",
       "      <th>415</th>\n",
       "      <td>7.2500</td>\n",
       "      <td>C</td>\n",
       "    </tr>\n",
       "    <tr>\n",
       "      <th>416</th>\n",
       "      <td>8.0500</td>\n",
       "      <td>C</td>\n",
       "    </tr>\n",
       "    <tr>\n",
       "      <th>417</th>\n",
       "      <td>22.3583</td>\n",
       "      <td>C</td>\n",
       "    </tr>\n",
       "  </tbody>\n",
       "</table>\n",
       "<p>418 rows × 2 columns</p>\n",
       "</div>"
      ],
      "text/plain": [
       "         Fare Pclass\n",
       "0      7.8292      C\n",
       "1      7.0000      C\n",
       "2      9.6875      B\n",
       "3      8.6625      C\n",
       "4     12.2875      C\n",
       "..        ...    ...\n",
       "413    8.0500      C\n",
       "414  108.9000      A\n",
       "415    7.2500      C\n",
       "416    8.0500      C\n",
       "417   22.3583      C\n",
       "\n",
       "[418 rows x 2 columns]"
      ]
     },
     "execution_count": 44,
     "metadata": {},
     "output_type": "execute_result"
    }
   ],
   "source": [
    "cat3_n_cont = titanic[['Fare','Pclass']]\n",
    "cat3_n_cont"
   ]
  },
  {
   "cell_type": "code",
   "execution_count": 45,
   "id": "0f8ccf1e",
   "metadata": {},
   "outputs": [
    {
     "data": {
      "text/plain": [
       "<seaborn.axisgrid.FacetGrid at 0x29c3b3db400>"
      ]
     },
     "execution_count": 45,
     "metadata": {},
     "output_type": "execute_result"
    },
    {
     "data": {
      "image/png": "[encoded data removed]",
      "text/plain": [
       "<Figure size 360x360 with 1 Axes>"
      ]
     },
     "metadata": {
      "needs_background": "light"
     },
     "output_type": "display_data"
    }
   ],
   "source": [
    "sns.catplot(data = cat3_n_cont,x='Pclass',y = 'Fare',kind = 'box')"
   ]
  },
  {
   "cell_type": "code",
   "execution_count": 46,
   "id": "5116cf31",
   "metadata": {},
   "outputs": [],
   "source": [
    "groups_ind = cat3_n_cont.groupby('Pclass').groups\n",
    "catA = cat3_n_cont['Fare'].iloc[groups_ind['A']]\n",
    "catB = cat3_n_cont['Fare'].iloc[groups_ind['B']]\n",
    "catC = cat3_n_cont['Fare'].iloc[groups_ind['C']]"
   ]
  },
  {
   "cell_type": "code",
   "execution_count": 47,
   "id": "bf13ef47",
   "metadata": {},
   "outputs": [
    {
     "data": {
      "text/plain": [
       "F_onewayResult(statistic=130.32013425445123, pvalue=1.19952265501301e-44)"
      ]
     },
     "execution_count": 47,
     "metadata": {},
     "output_type": "execute_result"
    }
   ],
   "source": [
    "stats.f_oneway(catA,catB,catC)"
   ]
  },
  {
   "cell_type": "markdown",
   "id": "b7fa5f3f",
   "metadata": {},
   "source": [
    "P value is too low indicating that are we should reject null hypothesis and therefore have to accept alternate hyothesis.\n",
    "Indicating that there is difference b/w means of each group"
   ]
  },
  {
   "cell_type": "code",
   "execution_count": 48,
   "id": "912aec26",
   "metadata": {},
   "outputs": [
    {
     "data": {
      "text/plain": [
       "<AxesSubplot:xlabel='Fare', ylabel='Density'>"
      ]
     },
     "execution_count": 48,
     "metadata": {},
     "output_type": "execute_result"
    },
    {
     "data": {
      "image/png": "[encoded data removed]",
      "text/plain": [
       "<Figure size 864x360 with 3 Axes>"
      ]
     },
     "metadata": {
      "needs_background": "light"
     },
     "output_type": "display_data"
    }
   ],
   "source": [
    "fig,ax = plt.subplots(1,3,figsize = (12,5))\n",
    "sns.kdeplot(x = catA,ax =ax[0],fill =True)\n",
    "sns.kdeplot(x = catB,ax =ax[1],fill =True)\n",
    "sns.kdeplot(x = catC,ax =ax[2],fill = True)"
   ]
  },
  {
   "cell_type": "markdown",
   "id": "45ac567a",
   "metadata": {},
   "source": [
    "lets check which category caused this variation."
   ]
  },
  {
   "cell_type": "code",
   "execution_count": 49,
   "id": "e5bb475b",
   "metadata": {},
   "outputs": [
    {
     "name": "stdout",
     "output_type": "stream",
     "text": [
      "A B\n",
      "Ttest_indResult(statistic=8.133180619559417, pvalue=4.511428412153624e-14)\n",
      "A C\n",
      "Ttest_indResult(statistic=14.09570903318974, pvalue=1.693147914876138e-35)\n",
      "B C\n",
      "Ttest_indResult(statistic=6.644352200466072, pvalue=1.3747778950099317e-10)\n"
     ]
    }
   ],
   "source": [
    "categories = ['A','B','C']\n",
    "pairs = []\n",
    "\n",
    "for i in range(2):\n",
    "    for k in range(i+1,3):\n",
    "        pairs.append((categories[i],categories[k]))\n",
    "\n",
    "for p1,p2 in pairs:\n",
    "    print(p1,p2)\n",
    "    print(stats.ttest_ind(cat3_n_cont['Fare'].iloc[groups_ind[p1]],cat3_n_cont['Fare'].iloc[groups_ind[p2]]))"
   ]
  },
  {
   "cell_type": "markdown",
   "id": "2fd6b793",
   "metadata": {},
   "source": [
    "Pairwise two sample t-test suggest that each and every category are different from each other, Which we can clearly see in above plotted kde "
   ]
  },
  {
   "cell_type": "code",
   "execution_count": 50,
   "id": "723a56de",
   "metadata": {},
   "outputs": [
    {
     "data": {
      "text/html": [
       "<table class=\"simpletable\">\n",
       "<caption>Multiple Comparison of Means - Tukey HSD, FWER=0.05</caption>\n",
       "<tr>\n",
       "  <th>group1</th> <th>group2</th> <th>meandiff</th>  <th>p-adj</th>   <th>lower</th>    <th>upper</th>  <th>reject</th>\n",
       "</tr>\n",
       "<tr>\n",
       "     <td>A</td>      <td>B</td>   <td>-72.0782</td>   <td>0.0</td>  <td>-86.7094</td> <td>-57.4469</td>  <td>True</td> \n",
       "</tr>\n",
       "<tr>\n",
       "     <td>A</td>      <td>C</td>   <td>-81.8115</td>   <td>0.0</td>  <td>-93.9935</td> <td>-69.6294</td>  <td>True</td> \n",
       "</tr>\n",
       "<tr>\n",
       "     <td>B</td>      <td>C</td>    <td>-9.7333</td> <td>0.1738</td> <td>-22.5156</td>  <td>3.0491</td>   <td>False</td>\n",
       "</tr>\n",
       "</table>"
      ],
      "text/plain": [
       "<class 'statsmodels.iolib.table.SimpleTable'>"
      ]
     },
     "execution_count": 50,
     "metadata": {},
     "output_type": "execute_result"
    },
    {
     "data": {
      "image/png": "[encoded data removed]",
      "text/plain": [
       "<Figure size 720x432 with 1 Axes>"
      ]
     },
     "metadata": {
      "needs_background": "light"
     },
     "output_type": "display_data"
    }
   ],
   "source": [
    "from statsmodels.stats.multicomp import pairwise_tukeyhsd\n",
    "tukey = pairwise_tukeyhsd(endog =cat3_n_cont['Fare'], groups = cat3_n_cont['Pclass'],alpha =0.05 )\n",
    "tukey.plot_simultaneous()\n",
    "\n",
    "tukey.summary()"
   ]
  },
  {
   "cell_type": "markdown",
   "id": "200af6d0",
   "metadata": {},
   "source": [
    "Above we can clearly see that each test involving A show that we should reject the null hypothesis. This suggest that A category is likely different from the other two."
   ]
  }
 ],
 "metadata": {
  "hide_input": false,
  "kernelspec": {
   "display_name": "Python 3 (ipykernel)",
   "language": "python",
   "name": "python3"
  },
  "language_info": {
   "codemirror_mode": {
    "name": "ipython",
    "version": 3
   },
   "file_extension": ".py",
   "mimetype": "text/x-python",
   "name": "python",
   "nbconvert_exporter": "python",
   "pygments_lexer": "ipython3",
   "version": "3.9.12"
  }
 },
 "nbformat": 4,
 "nbformat_minor": 5
}
